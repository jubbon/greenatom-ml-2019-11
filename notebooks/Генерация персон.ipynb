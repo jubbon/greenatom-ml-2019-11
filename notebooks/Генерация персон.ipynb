{
 "cells": [
  {
   "cell_type": "markdown",
   "metadata": {},
   "source": [
    "# Использование Faker"
   ]
  },
  {
   "cell_type": "code",
   "execution_count": 2,
   "metadata": {},
   "outputs": [],
   "source": [
    "from faker import Faker\n",
    "fake = Faker('ru_RU')"
   ]
  },
  {
   "cell_type": "code",
   "execution_count": 128,
   "metadata": {},
   "outputs": [
    {
     "data": {
      "text/plain": [
       "{'name': 'Буров Лучезар Виленович'}"
      ]
     },
     "execution_count": 128,
     "metadata": {},
     "output_type": "execute_result"
    }
   ],
   "source": [
    "person = dict(\n",
    "    name = fake.name(),\n",
    ")\n",
    "person"
   ]
  },
  {
   "cell_type": "code",
   "execution_count": 126,
   "metadata": {},
   "outputs": [
    {
     "data": {
      "text/plain": [
       "{'username': 'ufadeev',\n",
       " 'name': 'Фокина Елена Вячеславовна',\n",
       " 'sex': 'F',\n",
       " 'address': 'д. Курильск, ул. Ломоносова, д. 03, 897084',\n",
       " 'mail': 'firs1993@mail.ru',\n",
       " 'birthdate': datetime.date(1944, 12, 14)}"
      ]
     },
     "execution_count": 126,
     "metadata": {},
     "output_type": "execute_result"
    }
   ],
   "source": [
    "fake.simple_profile(sex=None)"
   ]
  },
  {
   "cell_type": "markdown",
   "metadata": {},
   "source": [
    "# Использование Mimesis"
   ]
  },
  {
   "cell_type": "code",
   "execution_count": 86,
   "metadata": {},
   "outputs": [],
   "source": [
    "from mimesis import Person\n",
    "from mimesis.enums import Gender\n",
    "from mimesis.builtins import RussiaSpecProvider"
   ]
  },
  {
   "cell_type": "code",
   "execution_count": 136,
   "metadata": {},
   "outputs": [
    {
     "data": {
      "text/plain": [
       "['Meta',\n",
       " '__class__',\n",
       " '__delattr__',\n",
       " '__dict__',\n",
       " '__dir__',\n",
       " '__doc__',\n",
       " '__eq__',\n",
       " '__format__',\n",
       " '__ge__',\n",
       " '__getattribute__',\n",
       " '__gt__',\n",
       " '__hash__',\n",
       " '__init__',\n",
       " '__init_subclass__',\n",
       " '__le__',\n",
       " '__lt__',\n",
       " '__module__',\n",
       " '__ne__',\n",
       " '__new__',\n",
       " '__reduce__',\n",
       " '__reduce_ex__',\n",
       " '__repr__',\n",
       " '__setattr__',\n",
       " '__sizeof__',\n",
       " '__str__',\n",
       " '__subclasshook__',\n",
       " '__weakref__',\n",
       " '_data',\n",
       " '_data_dir',\n",
       " '_datafile',\n",
       " '_override_locale',\n",
       " '_setup_locale',\n",
       " '_update_dict',\n",
       " '_validate_enum',\n",
       " 'bic',\n",
       " 'generate_sentence',\n",
       " 'get_current_locale',\n",
       " 'inn',\n",
       " 'kpp',\n",
       " 'locale',\n",
       " 'ogrn',\n",
       " 'override_locale',\n",
       " 'passport_number',\n",
       " 'passport_series',\n",
       " 'patronymic',\n",
       " 'pull',\n",
       " 'random',\n",
       " 'reseed',\n",
       " 'seed',\n",
       " 'series_and_number',\n",
       " 'snils']"
      ]
     },
     "execution_count": 136,
     "metadata": {},
     "output_type": "execute_result"
    }
   ],
   "source": [
    "person = Person('ru')\n",
    "ru = RussiaSpecProvider()\n",
    "dir(ru)"
   ]
  },
  {
   "cell_type": "code",
   "execution_count": 153,
   "metadata": {},
   "outputs": [
    {
     "name": "stdout",
     "output_type": "stream",
     "text": [
      "Козырев Юлий Фомич\n"
     ]
    }
   ],
   "source": [
    "gender = Gender.MALE\n",
    "first_name = person.name(gender=gender)\n",
    "patronymic = ru.patronymic(gender=gender)\n",
    "last_name = person.last_name(gender=gender)\n",
    "print(f\"{last_name} {first_name} {patronymic}\")"
   ]
  }
 ],
 "metadata": {
  "kernelspec": {
   "display_name": "Python 3",
   "language": "python",
   "name": "python3"
  },
  "language_info": {
   "codemirror_mode": {
    "name": "ipython",
    "version": 3
   },
   "file_extension": ".py",
   "mimetype": "text/x-python",
   "name": "python",
   "nbconvert_exporter": "python",
   "pygments_lexer": "ipython3",
   "version": "3.7.4"
  }
 },
 "nbformat": 4,
 "nbformat_minor": 2
}
