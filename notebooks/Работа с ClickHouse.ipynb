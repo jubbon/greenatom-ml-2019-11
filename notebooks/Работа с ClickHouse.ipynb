{
 "cells": [
  {
   "cell_type": "markdown",
   "metadata": {},
   "source": [
    "# Работа с clickhouse-driver"
   ]
  },
  {
   "cell_type": "code",
   "execution_count": 1,
   "metadata": {},
   "outputs": [
    {
     "name": "stdout",
     "output_type": "stream",
     "text": [
      "Collecting clickhouse-driver\n",
      "\u001b[?25l  Downloading https://files.pythonhosted.org/packages/52/27/713ef12bb88f2b4fae2e928a91a898a74b74906286fbf4a0491a2f5d1bc4/clickhouse_driver-0.1.2-cp37-cp37m-manylinux1_x86_64.whl (496kB)\n",
      "\u001b[K     |████████████████████████████████| 501kB 410kB/s eta 0:00:01\n",
      "\u001b[?25hCollecting pytz\n",
      "  Using cached https://files.pythonhosted.org/packages/e7/f9/f0b53f88060247251bf481fa6ea62cd0d25bf1b11a87888e53ce5b7c8ad2/pytz-2019.3-py2.py3-none-any.whl\n",
      "Collecting tzlocal\n",
      "  Using cached https://files.pythonhosted.org/packages/ef/99/53bd1ac9349262f59c1c421d8fcc2559ae8a5eeffed9202684756b648d33/tzlocal-2.0.0-py2.py3-none-any.whl\n",
      "Installing collected packages: pytz, tzlocal, clickhouse-driver\n",
      "Successfully installed clickhouse-driver-0.1.2 pytz-2019.3 tzlocal-2.0.0\n"
     ]
    }
   ],
   "source": [
    "!pip install clickhouse-driver"
   ]
  },
  {
   "cell_type": "code",
   "execution_count": 26,
   "metadata": {},
   "outputs": [],
   "source": [
    "from clickhouse_driver import Client\n",
    "client = Client(host='localhost', port=9990)"
   ]
  },
  {
   "cell_type": "code",
   "execution_count": 27,
   "metadata": {},
   "outputs": [
    {
     "data": {
      "text/plain": [
       "[('default',), ('system',)]"
      ]
     },
     "execution_count": 27,
     "metadata": {},
     "output_type": "execute_result"
    }
   ],
   "source": [
    "client.execute('SHOW DATABASES')"
   ]
  },
  {
   "cell_type": "code",
   "execution_count": 5,
   "metadata": {},
   "outputs": [
    {
     "data": {
      "text/plain": [
       "[(0,), (1,), (2,), (3,), (4,)]"
      ]
     },
     "execution_count": 5,
     "metadata": {},
     "output_type": "execute_result"
    }
   ],
   "source": [
    "client.execute('SELECT * FROM system.numbers LIMIT 5')"
   ]
  },
  {
   "cell_type": "code",
   "execution_count": 6,
   "metadata": {},
   "outputs": [
    {
     "data": {
      "text/plain": [
       "[('2019-11-03', 3)]"
      ]
     },
     "execution_count": 6,
     "metadata": {},
     "output_type": "execute_result"
    }
   ],
   "source": [
    "from datetime import date\n",
    "client.execute(\n",
    "    'SELECT %(date)s, %(a)s + %(b)s',\n",
    "    {'date': date.today(), 'a': 1, 'b': 2})"
   ]
  },
  {
   "cell_type": "code",
   "execution_count": 9,
   "metadata": {},
   "outputs": [
    {
     "data": {
      "text/plain": [
       "[]"
      ]
     },
     "execution_count": 9,
     "metadata": {},
     "output_type": "execute_result"
    }
   ],
   "source": [
    "client.execute(\n",
    "    'CREATE DATABASE IF NOT EXISTS hr'\n",
    ")"
   ]
  },
  {
   "cell_type": "code",
   "execution_count": 13,
   "metadata": {},
   "outputs": [
    {
     "data": {
      "text/plain": [
       "[]"
      ]
     },
     "execution_count": 13,
     "metadata": {},
     "output_type": "execute_result"
    }
   ],
   "source": [
    "client.execute(\n",
    "    '''\n",
    "    CREATE TABLE IF NOT EXISTS hr.events (\n",
    "        event_date  Date,\n",
    "        event_time  DateTime,\n",
    "        user_uid    String\n",
    "    ) engine=MergeTree(event_date, (user_uid), 8192)'''\n",
    ")"
   ]
  },
  {
   "cell_type": "code",
   "execution_count": 24,
   "metadata": {},
   "outputs": [
    {
     "data": {
      "text/plain": [
       "[(datetime.date(2019, 11, 3),\n",
       "  datetime.datetime(2019, 11, 3, 11, 11, 28),\n",
       "  'test_user'),\n",
       " (datetime.date(2019, 11, 3),\n",
       "  datetime.datetime(2019, 11, 3, 11, 11, 15),\n",
       "  'test_user'),\n",
       " (datetime.date(2019, 11, 3),\n",
       "  datetime.datetime(2019, 11, 3, 11, 11, 29),\n",
       "  'test_user'),\n",
       " (datetime.date(2019, 11, 3),\n",
       "  datetime.datetime(2019, 11, 3, 11, 11, 27),\n",
       "  'test_user')]"
      ]
     },
     "execution_count": 24,
     "metadata": {},
     "output_type": "execute_result"
    }
   ],
   "source": [
    "client.execute(\n",
    "    'SELECT * FROM hr.events;'\n",
    ")"
   ]
  },
  {
   "cell_type": "code",
   "execution_count": 23,
   "metadata": {},
   "outputs": [
    {
     "data": {
      "text/plain": [
       "1"
      ]
     },
     "execution_count": 23,
     "metadata": {},
     "output_type": "execute_result"
    }
   ],
   "source": [
    "from datetime import date, datetime\n",
    "client.execute(\n",
    "    'INSERT INTO hr.events (event_date, event_time, user_uid) VALUES',\n",
    "    [{\n",
    "        \"event_date\": datetime.now(),\n",
    "        \"event_time\": datetime.now(),\n",
    "        \"user_uid\": \"test_user\",\n",
    "    }]\n",
    ")"
   ]
  },
  {
   "cell_type": "code",
   "execution_count": 25,
   "metadata": {},
   "outputs": [
    {
     "data": {
      "text/plain": [
       "[(4,)]"
      ]
     },
     "execution_count": 25,
     "metadata": {},
     "output_type": "execute_result"
    }
   ],
   "source": [
    "client.execute(\n",
    "    'SELECT count(*) FROM hr.events;'\n",
    ")"
   ]
  }
 ],
 "metadata": {
  "kernelspec": {
   "display_name": "Python 3",
   "language": "python",
   "name": "python3"
  },
  "language_info": {
   "codemirror_mode": {
    "name": "ipython",
    "version": 3
   },
   "file_extension": ".py",
   "mimetype": "text/x-python",
   "name": "python",
   "nbconvert_exporter": "python",
   "pygments_lexer": "ipython3",
   "version": "3.7.4"
  }
 },
 "nbformat": 4,
 "nbformat_minor": 2
}
